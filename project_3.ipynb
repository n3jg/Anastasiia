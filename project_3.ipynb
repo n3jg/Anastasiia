{
  "nbformat": 4,
  "nbformat_minor": 0,
  "metadata": {
    "colab": {
      "provenance": []
    },
    "kernelspec": {
      "name": "python3",
      "display_name": "Python 3"
    }
  },
  "cells": [
    {
      "cell_type": "code",
      "metadata": {
        "id": "_yRcbTXldpE6"
      },
      "source": [
        "from google.colab import drive\n",
        "from lxml import etree as et\n",
        "import xml.etree.ElementTree as etree\n",
        "import pandas as pd\n",
        "from sklearn.linear_model import LogisticRegression\n",
        "from sklearn.naive_bayes import GaussianNB\n",
        "import pandas as pd\n",
        "from sklearn.model_selection import train_test_split\n",
        "import pickle\n",
        "import numpy as np\n",
        "from sklearn.metrics import f1_score, classification_report"
      ],
      "execution_count": null,
      "outputs": []
    },
    {
      "cell_type": "code",
      "metadata": {
        "colab": {
          "base_uri": "https://localhost:8080/"
        },
        "id": "uyxL-Y21dyPu",
        "outputId": "7f47f905-04c4-4c7b-b9a4-fa3a6895c5e0"
      },
      "source": [
        "drive.mount('/content/drive')"
      ],
      "execution_count": null,
      "outputs": [
        {
          "output_type": "stream",
          "text": [
            "Mounted at /content/drive\n"
          ],
          "name": "stdout"
        }
      ]
    },
    {
      "cell_type": "code",
      "metadata": {
        "id": "fG027LVLd1ww"
      },
      "source": [
        "def feature_table(xml_path, out_path):\n",
        "    df = pd.DataFrame(columns=['id', 'word_lower', 'capital_letter', 'subpart_of_speech', 'pause_type', 'end_of_sentence'])\n",
        "\n",
        "    tree = et.parse(xml_path)\n",
        "    root = tree.getroot()\n",
        "    words = []\n",
        "    eos = []\n",
        "    pause_type = []\n",
        "    subpart_of_speech = []\n",
        "    cap_let = []\n",
        "\n",
        "    for sentence in root.iter('sentence'):\n",
        "        for word in sentence.iter('word'):\n",
        "            if 'original' in word.attrib.keys():\n",
        "                words.append(word.attrib['original'].lower())\n",
        "                if word.attrib['original'][0].isupper():\n",
        "                    cap_let.append(1)\n",
        "                else:\n",
        "                    cap_let.append(0)\n",
        "            else:\n",
        "                words.append('none')\n",
        "                cap_let.append(0)\n",
        "\n",
        "        for content in sentence.iter('content'):\n",
        "            if 'PunktEnd' in content.attrib.keys():\n",
        "                eos.append(1)\n",
        "            else:\n",
        "                eos.append(0)\n",
        "\n",
        "            if 'PauseType' in content.attrib.keys():\n",
        "                pause_type.append(content.attrib['PauseType'])\n",
        "            else:\n",
        "                pause_type.append(0)\n",
        "        for dictitem in sentence.iter('dictitem'):\n",
        "            subpart_of_speech.append(int(dictitem.attrib['subpart_of_speech']))\n",
        "\n",
        "    for i in range(len(pause_type)):\n",
        "        df.loc[df.shape[0]] = [i, words[i], cap_let[i], subpart_of_speech[i], pause_type[i], eos[i]]\n",
        "    df.to_csv(out_path, index=False)\n"
      ],
      "execution_count": null,
      "outputs": []
    },
    {
      "cell_type": "code",
      "metadata": {
        "id": "7rWnN5-qeDIN"
      },
      "source": [
        "feature_table('/content/drive/My Drive/Colab Notebooks/JackLondon.MartinEden.Result.xml','/content/drive/My Drive/Colab Notebooks/data1.csv')"
      ],
      "execution_count": null,
      "outputs": []
    },
    {
      "cell_type": "markdown",
      "metadata": {
        "id": "HbyWADX7g_Hm"
      },
      "source": [
        "Логистическая регрессия"
      ]
    },
    {
      "cell_type": "code",
      "metadata": {
        "id": "X2ZsmAireWjj"
      },
      "source": [
        "def model(table_path):\n",
        "    test_df = pd.read_csv(table_path)\n",
        "\n",
        "    features = np.asarray(test_df.iloc[0:test_df.shape[0], 2:5])\n",
        "    labels = test_df.iloc[0:test_df.shape[0], 5]\n",
        "\n",
        "    x_train, x_valid, y_train, y_valid = train_test_split(features, labels, stratify=labels)\n",
        "    model = LogisticRegression(random_state = 0).fit(x_train, y_train)\n",
        "    y_pred = model.predict(x_valid)\n",
        "\n",
        "\n",
        "    print(f1_score(labels[0:len(y_pred)], y_pred, average='micro'))\n",
        "    print(classification_report(labels[0:len(y_pred)], y_pred))"
      ],
      "execution_count": null,
      "outputs": []
    },
    {
      "cell_type": "code",
      "metadata": {
        "colab": {
          "base_uri": "https://localhost:8080/"
        },
        "id": "Vb7PR7Q2fSJh",
        "outputId": "cb036c72-c29a-40d5-90f0-be017e53089a"
      },
      "source": [
        "model('/content/drive/My Drive/Colab Notebooks/data1.csv')"
      ],
      "execution_count": null,
      "outputs": [
        {
          "output_type": "stream",
          "text": [
            "0.6622639017302866\n",
            "              precision    recall  f1-score   support\n",
            "\n",
            "           0       0.78      0.79      0.79      5958\n",
            "           1       0.20      0.19      0.19      1613\n",
            "\n",
            "    accuracy                           0.66      7571\n",
            "   macro avg       0.49      0.49      0.49      7571\n",
            "weighted avg       0.66      0.66      0.66      7571\n",
            "\n"
          ],
          "name": "stdout"
        }
      ]
    },
    {
      "cell_type": "markdown",
      "metadata": {
        "id": "Mwe7dWIQhPRR"
      },
      "source": [
        "Гауссовский наивный байесовский"
      ]
    },
    {
      "cell_type": "code",
      "metadata": {
        "id": "KGtTaNbvfZ81"
      },
      "source": [
        "def modelGaussian(table_path):\n",
        "    test_df = pd.read_csv(table_path)\n",
        "\n",
        "    features = np.asarray(test_df.iloc[0:test_df.shape[0], 2:5])\n",
        "    labels = test_df.iloc[0:test_df.shape[0], 5]\n",
        "\n",
        "    x_train, x_valid, y_train, y_valid = train_test_split(features, labels, stratify=labels)\n",
        "    model = GaussianNB().fit(x_train, y_train)\n",
        "    y_pred = model.predict(x_valid)\n",
        "\n",
        "    print(f1_score(labels[0:len(y_pred)], y_pred, average='micro'))\n",
        "    print(classification_report(labels[0:len(y_pred)], y_pred))"
      ],
      "execution_count": null,
      "outputs": []
    },
    {
      "cell_type": "code",
      "metadata": {
        "colab": {
          "base_uri": "https://localhost:8080/"
        },
        "id": "86s28yVvffJx",
        "outputId": "e4c43e2b-dcf0-4af4-d0c3-8ac3096b203e"
      },
      "source": [
        "modelGaussian('/content/drive/My Drive/Colab Notebooks/data1.csv')"
      ],
      "execution_count": null,
      "outputs": [
        {
          "output_type": "stream",
          "text": [
            "0.6724342887333246\n",
            "              precision    recall  f1-score   support\n",
            "\n",
            "           0       0.79      0.80      0.79      5958\n",
            "           1       0.22      0.21      0.22      1613\n",
            "\n",
            "    accuracy                           0.67      7571\n",
            "   macro avg       0.51      0.51      0.51      7571\n",
            "weighted avg       0.67      0.67      0.67      7571\n",
            "\n"
          ],
          "name": "stdout"
        }
      ]
    },
    {
      "cell_type": "code",
      "metadata": {
        "id": "uiUJ4R63fqTt"
      },
      "source": [],
      "execution_count": null,
      "outputs": []
    }
  ]
}